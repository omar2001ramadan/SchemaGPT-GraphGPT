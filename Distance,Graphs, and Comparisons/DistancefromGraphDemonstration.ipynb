{
 "cells": [
  {
   "cell_type": "code",
   "execution_count": 3,
   "metadata": {},
   "outputs": [
    {
     "name": "stdout",
     "output_type": "stream",
     "text": [
      "Node Distance: 0.33\n",
      "Key Distance: 0.00\n",
      "Value Distance: 0.33\n",
      "Graph Distance: 2.00\n"
     ]
    }
   ],
   "source": [
    "import networkx as nx\n",
    "\n",
    "def jaccard_distance(set1, set2):\n",
    "    \"\"\"Calculate the Jaccard distance between two sets.\"\"\"\n",
    "    intersection = len(set1.intersection(set2))\n",
    "    union = len(set1.union(set2))\n",
    "    return 1 - intersection / union if union != 0 else 1\n",
    "\n",
    "def calculate_distances(G1, G2):\n",
    "    \"\"\"Calculate node distance, key distance, value distance, and graph distance between two graphs.\"\"\"\n",
    "    \n",
    "    # Node distance\n",
    "    nodes1 = set(G1.nodes())\n",
    "    nodes2 = set(G2.nodes())\n",
    "    node_distance = jaccard_distance(nodes1, nodes2)\n",
    "\n",
    "    # Key distance\n",
    "    keys1 = set(k for _, d in G1.nodes(data=True) for k in d.keys())\n",
    "    keys2 = set(k for _, d in G2.nodes(data=True) for k in d.keys())\n",
    "    key_distance = jaccard_distance(keys1, keys2)\n",
    "\n",
    "    # Value distance\n",
    "    values1 = set(v for _, d in G1.nodes(data=True) for v in d.values() if isinstance(v, str))\n",
    "    values2 = set(v for _, d in G2.nodes(data=True) for v in d.values() if isinstance(v, str))\n",
    "    value_distance = jaccard_distance(values1, values2)\n",
    "\n",
    "    # Graph distance\n",
    "    graph_distance = nx.graph_edit_distance(G1, G2)\n",
    "\n",
    "    print(f\"Node Distance: {node_distance:.2f}\")\n",
    "    print(f\"Key Distance: {key_distance:.2f}\")\n",
    "    print(f\"Value Distance: {value_distance:.2f}\")\n",
    "    print(f\"Graph Distance: {graph_distance:.2f}\")\n",
    "\n",
    "# Example usage\n",
    "if __name__ == \"__main__\":\n",
    "    # Create example graphs\n",
    "    G1 = nx.Graph()\n",
    "    G1.add_node(1, label='A', type='Type1')\n",
    "    G1.add_node(2, label='B', type='Type2')\n",
    "    G1.add_edge(1, 2, relationship='similar-to')\n",
    "\n",
    "    '''G2 = nx.Graph()\n",
    "    G2.add_node(1, label='A', type='Type1')\n",
    "    G2.add_node(3, label='C', type='Type3')\n",
    "    G2.add_edge(1, 3, relationship='similar-to')'''\n",
    "\n",
    "    G2 = nx.Graph()\n",
    "    G2.add_node(1, label='A', type='Type1')\n",
    "    G2.add_node(2, label='B', type='Type2')\n",
    "    G2.add_node(3, label='C', type='Type3')\n",
    "    G2.add_edge(1, 2, relationship='similar-to')\n",
    "    G2.add_edge(1, 3, relationship='similar-to')\n",
    "\n",
    "\n",
    "\n",
    "    calculate_distances(G1, G2)\n"
   ]
  }
 ],
 "metadata": {
  "kernelspec": {
   "display_name": "base",
   "language": "python",
   "name": "python3"
  },
  "language_info": {
   "codemirror_mode": {
    "name": "ipython",
    "version": 3
   },
   "file_extension": ".py",
   "mimetype": "text/x-python",
   "name": "python",
   "nbconvert_exporter": "python",
   "pygments_lexer": "ipython3",
   "version": "3.11.7"
  }
 },
 "nbformat": 4,
 "nbformat_minor": 2
}
