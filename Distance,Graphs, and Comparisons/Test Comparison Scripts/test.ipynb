{
 "cells": [
  {
   "cell_type": "code",
   "execution_count": 2,
   "metadata": {},
   "outputs": [
    {
     "name": "stdout",
     "output_type": "stream",
     "text": [
      "Graph 1:\n"
     ]
    },
    {
     "data": {
      "image/png": "[encoded data removed]",
      "text/plain": [
       "<Figure size 640x480 with 1 Axes>"
      ]
     },
     "metadata": {},
     "output_type": "display_data"
    },
    {
     "name": "stdout",
     "output_type": "stream",
     "text": [
      "Graph 2:\n"
     ]
    },
    {
     "data": {
      "image/png": "[encoded data removed]",
      "text/plain": [
       "<Figure size 640x480 with 1 Axes>"
      ]
     },
     "metadata": {},
     "output_type": "display_data"
    },
    {
     "name": "stdout",
     "output_type": "stream",
     "text": [
      "Graph Edit Distance: 3.0\n"
     ]
    }
   ],
   "source": [
    "import networkx as nx\n",
    "\n",
    "import matplotlib.pyplot as plt\n",
    "\n",
    "import json\n",
    "\n",
    " \n",
    "\n",
    "def graph_edit_distance(G1, G2):\n",
    "\n",
    "    # Create graph objects from JSON\n",
    "\n",
    "    graph1 = nx.node_link_graph(G1)\n",
    "\n",
    "    graph2 = nx.node_link_graph(G2)\n",
    "\n",
    "   \n",
    "\n",
    "    # Compute graph edit distance\n",
    "\n",
    "    distance = nx.graph_edit_distance(graph1, graph2,\n",
    "\n",
    "                                      node_match=lambda n1, n2: n1.get('id', '') == n2.get('id', '') and n1.get('attr', '') == n2.get('attr', ''))\n",
    "\n",
    "   \n",
    "\n",
    "    return distance\n",
    "\n",
    " \n",
    "\n",
    "# Function to visualize a graph from JSON\n",
    "\n",
    "def visualize_graph(graph_json):\n",
    "\n",
    "    graph = nx.node_link_graph(graph_json)\n",
    "\n",
    "    pos = nx.spring_layout(graph)  # Position nodes using Fruchterman-Reingold force-directed algorithm\n",
    "\n",
    "    nx.draw(graph, pos, with_labels=False)\n",
    "\n",
    "    # Draw node attributes above nodes with larger font size\n",
    "\n",
    "    labels = {node['id']: node.get('attr', '') for node in graph_json['nodes']}\n",
    "\n",
    "    node_label_y_offset = 0.05  # Offset for placing node labels slightly above the nodes\n",
    "\n",
    "    for node, label in labels.items():\n",
    "\n",
    "        x, y = pos[node]\n",
    "\n",
    "        plt.text(x, y + node_label_y_offset, label, ha='center', fontsize=12, bbox=dict(facecolor='white', alpha=0.7))\n",
    "\n",
    "    plt.show()\n",
    "\n",
    " \n",
    "\n",
    "# Example JSON representations of two graphs with node attributes\n",
    "\n",
    "graph1_json = {\n",
    "\n",
    "    \"directed\": False,\n",
    "\n",
    "    \"multigraph\": False,\n",
    "\n",
    "    \"graph\": {},\n",
    "\n",
    "    \"nodes\": [\n",
    "\n",
    "        {\"id\": 0, \"attr2\": \"A\"},\n",
    "\n",
    "        {\"id\": 1, \"attr\": \"B\"},\n",
    "\n",
    "        {\"id\": 2, \"attr\": \"C\"}\n",
    "\n",
    "    ],\n",
    "\n",
    "    \"links\": [\n",
    "\n",
    "        {\"source\": 0, \"target\": 1},\n",
    "\n",
    "        {\"source\": 1, \"target\": 2}\n",
    "\n",
    "    ]\n",
    "\n",
    "}\n",
    "\n",
    " \n",
    "\n",
    "graph2_json = {\n",
    "\n",
    "    \"directed\": False,\n",
    "\n",
    "    \"multigraph\": False,\n",
    "\n",
    "    \"graph\": {},\n",
    "\n",
    "    \"nodes\": [\n",
    "\n",
    "        {\"id\": 0, \"attr\": \"A\"},\n",
    "\n",
    "        {\"id\": 1, \"attr\": \"B\"},\n",
    "\n",
    "        {\"id\": 2, \"attr\": \"C\"},\n",
    "\n",
    "       # {\"id\": 3, \"attr\": \"D\"}\n",
    "       #notes: 1 object difference\n",
    "       #\n",
    "\n",
    "    ],\n",
    "\n",
    "    \"links\": [\n",
    "\n",
    "        {\"source\": 0, \"target\": 1},\n",
    "\n",
    "        {\"source\": 1, \"target\": 2},\n",
    "\n",
    "        {\"source\": 2, \"target\": 3}\n",
    "\n",
    "    ]\n",
    "\n",
    "}\n",
    "\n",
    " \n",
    "\n",
    "# Visualize the graphs\n",
    "\n",
    "print(\"Graph 1:\")\n",
    "\n",
    "visualize_graph(graph1_json)\n",
    "\n",
    " \n",
    "\n",
    "print(\"Graph 2:\")\n",
    "\n",
    "visualize_graph(graph2_json)\n",
    "\n",
    " \n",
    "\n",
    "# Compute and print graph edit distance\n",
    "\n",
    "distance = graph_edit_distance(graph1_json, graph2_json)\n",
    "\n",
    "print(\"Graph Edit Distance:\", distance)"
   ]
  }
 ],
 "metadata": {
  "kernelspec": {
   "display_name": "Python 3",
   "language": "python",
   "name": "python3"
  },
  "language_info": {
   "codemirror_mode": {
    "name": "ipython",
    "version": 3
   },
   "file_extension": ".py",
   "mimetype": "text/x-python",
   "name": "python",
   "nbconvert_exporter": "python",
   "pygments_lexer": "ipython3",
   "version": "3.11.7"
  }
 },
 "nbformat": 4,
 "nbformat_minor": 2
}
