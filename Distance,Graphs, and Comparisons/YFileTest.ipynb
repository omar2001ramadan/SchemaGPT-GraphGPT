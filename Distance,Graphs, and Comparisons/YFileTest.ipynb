{
 "cells": [
  {
   "cell_type": "code",
   "execution_count": 1,
   "metadata": {},
   "outputs": [
    {
     "name": "stderr",
     "output_type": "stream",
     "text": [
      "C:\\Users\\omar2\\AppData\\Roaming\\Python\\Python311\\site-packages\\sentence_transformers\\cross_encoder\\CrossEncoder.py:11: TqdmExperimentalWarning: Using `tqdm.autonotebook.tqdm` in notebook mode. Use `tqdm.tqdm` instead to force console mode (e.g. in jupyter console)\n",
      "  from tqdm.autonotebook import tqdm, trange\n",
      "C:\\Users\\omar2\\AppData\\Roaming\\Python\\Python311\\site-packages\\huggingface_hub\\file_download.py:1132: FutureWarning: `resume_download` is deprecated and will be removed in version 1.0.0. Downloads always resume when possible. If you want to force a new download, use `force_download=True`.\n",
      "  warnings.warn(\n"
     ]
    },
    {
     "name": "stdout",
     "output_type": "stream",
     "text": [
      "[{'id': '10000', 'name': 'Hillary Clinton', 'description': 'Hillary Diane Rodham Clinton is an American politician', 'age': 70, 'birth': 'US', 'is_friend_of_refs': ['10001', '10002'], 'is_of_refs': ['10001', '10002'], 'is_friend_of_ref': '10002'}, {'id': '10001', 'name': 'Christopher G. Kollmann', 'description': 'Forensic investigator', 'age': 48, 'birth': 'US'}, {'id': '10002', 'name': 'Frank xu', 'description': 'Professor at UB', 'age': 88, 'birth': 'China'}]\n",
      "id mapped: {'1': '10000', '2': '10001', '3': '10002'}\n",
      "[{'id': '20000', 'name': 'Hillary Clinton', 'description': 'Hillary Diane Rodham Clinton is an American politician', 'age': 70, 'birth': 'US', 'is_friend_of_ref': '20001', 'like_ref': '20001'}, {'id': '20001', 'name': 'Christopher G. Kollmann', 'description': 'Forensic investigator', 'age': '48'}]\n",
      "id mapped: {'1': '20000', '2': '20001'}\n",
      "Matched Pairs: {0: 0, 1: 1}\n",
      "Dictionary has been saved to match_pairs.txt\n"
     ]
    },
    {
     "name": "stderr",
     "output_type": "stream",
     "text": [
      "C:\\Users\\omar2\\AppData\\Roaming\\Python\\Python311\\site-packages\\huggingface_hub\\file_download.py:1132: FutureWarning: `resume_download` is deprecated and will be removed in version 1.0.0. Downloads always resume when possible. If you want to force a new download, use `force_download=True`.\n",
      "  warnings.warn(\n"
     ]
    },
    {
     "name": "stdout",
     "output_type": "stream",
     "text": [
      "Strat building networkx graph!\n",
      "Strat building networkx graph!\n"
     ]
    },
    {
     "data": {
      "application/vnd.jupyter.widget-view+json": {
       "model_id": "919d76340a354e7e84dc308973ac7b1e",
       "version_major": 2,
       "version_minor": 0
      },
      "text/plain": [
       "GraphWidget(layout=Layout(height='500px', width='100%'))"
      ]
     },
     "metadata": {},
     "output_type": "display_data"
    },
    {
     "name": "stdout",
     "output_type": "stream",
     "text": [
      "Nodes:\n",
      "Node 0: {'id': '0', 'name': 'Hillary Clinton', 'description': 'Hillary Diane Rodham Clinton is an American politician', 'age': 70, 'birth': 'US', 'is_friend_of_refs': ['1', '10002'], 'is_of_refs': ['1', '10002'], 'is_friend_of_ref': '10002'}\n",
      "Node 1: {'id': '1', 'name': 'Christopher G. Kollmann', 'description': 'Forensic investigator', 'age': 48, 'birth': 'US'}\n",
      "Node 10002: {'id': '10002', 'name': 'Frank xu', 'description': 'Professor at UB', 'age': 88, 'birth': 'China'}\n",
      "\n",
      "Edges:\n",
      "Edge 0 - 1: {}\n",
      "Edge 0 - 10002: {}\n",
      "\n",
      "Node Labels:\n",
      "Node 0: name: Hillary Clinton\n",
      "description: Hillary Diane Rodham Clinton is an American politician\n",
      "age: 70\n",
      "birth: US\n",
      "is_friend_of_refs: ['1', '10002']\n",
      "is_of_refs: ['1', '10002']\n",
      "is_friend_of_ref: 10002\n",
      "Node 1: name: Christopher G. Kollmann\n",
      "description: Forensic investigator\n",
      "age: 48\n",
      "birth: US\n",
      "Node 10002: name: Frank xu\n",
      "description: Professor at UB\n",
      "age: 88\n",
      "birth: China\n"
     ]
    }
   ],
   "source": [
    "from hallucination_eval import HalluEvaluator\n",
    "import json\n",
    "from yfiles_jupyter_graphs import GraphWidget\n",
    "import networkx as nx\n",
    "\n",
    "# Create an instance of HalluEvaluator\n",
    "graph_path1 = r\"C:\\Users\\omar2\\OneDrive\\Desktop\\graphdistance-main\\graphdistance-main\\dspy_dfkg\\testcase\\node_distance\\08_a.json\"\n",
    "graph_path2 = r\"C:\\Users\\omar2\\OneDrive\\Desktop\\graphdistance-main\\graphdistance-main\\dspy_dfkg\\testcase\\node_distance\\08_b.json\"\n",
    "hallu_evaluator = HalluEvaluator(graph_pathA=graph_path1, graph_pathB=graph_path2)\n",
    "\n",
    "# Access graph1 and graphx1 from the instance\n",
    "graph1 = hallu_evaluator.graph1\n",
    "graphx1 = hallu_evaluator.graphx1\n",
    "\n",
    "# Create new graph combining structure and attributes\n",
    "combined_graph = nx.Graph()\n",
    "\n",
    "# Copy structure from graphx1\n",
    "combined_graph.add_nodes_from(graphx1.nodes())\n",
    "combined_graph.add_edges_from(graphx1.edges())\n",
    "\n",
    "# Add attributes from graph1\n",
    "for item in graph1:\n",
    "    if 'source_ref' in item:  # It's an edge\n",
    "        combined_graph.add_edge(item['source_ref'], item['target_ref'], **item)\n",
    "    else:  # It's a node\n",
    "        combined_graph.nodes[item['id']].update(item)\n",
    "\n",
    "# Function to flatten attributes into a string\n",
    "def flatten_attributes(data):\n",
    "    # Remove 'id' from the attributes as it's already used\n",
    "    data_copy = data.copy()\n",
    "    data_copy.pop('id', None)\n",
    "    \n",
    "    # Convert all values to strings and join them\n",
    "    return '\\n'.join(f\"{k}: {v}\" for k, v in data_copy.items())\n",
    "\n",
    "# Create a yFiles GraphWidget\n",
    "widget = GraphWidget()\n",
    "\n",
    "# Set nodes in the widget with flattened attributes as labels\n",
    "widget.set_nodes([\n",
    "    {\n",
    "        'id': node,\n",
    "        'label': flatten_attributes(data),\n",
    "        'properties': {\n",
    "            'width': 300, \n",
    "            'height': 200,\n",
    "            'label_visible': True,\n",
    "            'label_text_size': 12\n",
    "        }\n",
    "    }\n",
    "    for node, data in combined_graph.nodes(data=True)\n",
    "])\n",
    "\n",
    "# Set edges in the widget\n",
    "widget.set_edges([\n",
    "    {\n",
    "        'id': i, \n",
    "        'start': u, \n",
    "        'end': v, \n",
    "        'label': f\"Edge {u}-{v}\",\n",
    "        'properties': {\n",
    "            'label_visible': True,\n",
    "            'label_text_size': 10\n",
    "        }\n",
    "    }\n",
    "    for i, (u, v, data) in enumerate(combined_graph.edges(data=True))\n",
    "])\n",
    "\n",
    "# Custom node color mapping function\n",
    "def node_color_mapping(node):\n",
    "    return '#15afac'  # You can customize this based on node attributes\n",
    "\n",
    "# Set the node color mapping\n",
    "widget.set_node_color_mapping(node_color_mapping)\n",
    "\n",
    "# Custom node label mapping function\n",
    "def custom_node_label_mapping(node):\n",
    "    return node['label']\n",
    "\n",
    "# Set the node label mapping\n",
    "widget.set_node_label_mapping(custom_node_label_mapping)\n",
    "\n",
    "# Apply an organic layoutg\n",
    "widget.organic_layout()\n",
    "\n",
    "# Show the widget\n",
    "widget.show()\n",
    "\n",
    "# Print node and edge information for verification\n",
    "print(\"Nodes:\")\n",
    "for node, data in combined_graph.nodes(data=True):\n",
    "    print(f\"Node {node}: {data}\")\n",
    "\n",
    "print(\"\\nEdges:\")\n",
    "for u, v, data in combined_graph.edges(data=True):\n",
    "    print(f\"Edge {u} - {v}: {data}\")\n",
    "\n",
    "# Debug print to check node labels\n",
    "print(\"\\nNode Labels:\")\n",
    "for node in widget.nodes:\n",
    "    print(f\"Node {node['id']}: {node['label']}\")"
   ]
  }
 ],
 "metadata": {
  "kernelspec": {
   "display_name": "base",
   "language": "python",
   "name": "python3"
  },
  "language_info": {
   "codemirror_mode": {
    "name": "ipython",
    "version": 3
   },
   "file_extension": ".py",
   "mimetype": "text/x-python",
   "name": "python",
   "nbconvert_exporter": "python",
   "pygments_lexer": "ipython3",
   "version": "3.11.7"
  }
 },
 "nbformat": 4,
 "nbformat_minor": 2
}
