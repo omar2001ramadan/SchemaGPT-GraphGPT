{
 "cells": [
  {
   "cell_type": "code",
   "execution_count": 3,
   "metadata": {},
   "outputs": [
    {
     "name": "stdout",
     "output_type": "stream",
     "text": [
      "[{'id': '10000', 'name': 'Hillary Clinton', 'description': 'Hillary Diane Rodham Clinton is an American politician', 'age': 70, 'birth': 'US', 'is_friend_of_refs': ['10001', '10002'], 'is_of_refs': ['10001', '10002'], 'is_friend_of_ref': '10002'}, {'id': '10001', 'name': 'Christopher G. Kollmann', 'description': 'Forensic investigator', 'age': 48, 'birth': 'US'}, {'id': '10002', 'name': 'Frank xu', 'description': 'Professor at UB', 'age': 88, 'birth': 'China'}]\n",
      "id mapped: {'1': '10000', '2': '10001', '3': '10002'}\n",
      "[{'id': '20000', 'name': 'Hillary Clinton', 'description': 'Hillary Diane Rodham Clinton is an American politician', 'age': 70, 'birth': 'US', 'is_friend_of_ref': '20001', 'like_ref': '20001'}, {'id': '20001', 'name': 'Christopher G. Kollmann', 'description': 'Forensic investigator', 'age': '48'}]\n",
      "id mapped: {'1': '20000', '2': '20001'}\n",
      "Matched Pairs: {0: 0, 1: 1}\n",
      "Dictionary has been saved to match_pairs.txt\n"
     ]
    },
    {
     "name": "stderr",
     "output_type": "stream",
     "text": [
      "C:\\Users\\omar2\\AppData\\Roaming\\Python\\Python311\\site-packages\\huggingface_hub\\file_download.py:1132: FutureWarning: `resume_download` is deprecated and will be removed in version 1.0.0. Downloads always resume when possible. If you want to force a new download, use `force_download=True`.\n",
      "  warnings.warn(\n"
     ]
    },
    {
     "name": "stdout",
     "output_type": "stream",
     "text": [
      "Strat building networkx graph!\n",
      "Strat building networkx graph!\n",
      "Graph 1 Visualization:\n"
     ]
    },
    {
     "data": {
      "application/vnd.jupyter.widget-view+json": {
       "model_id": "ae828e75fbc6420cbecd045fae112d4b",
       "version_major": 2,
       "version_minor": 0
      },
      "text/plain": [
       "GraphWidget(layout=Layout(height='500px', width='100%'))"
      ]
     },
     "metadata": {},
     "output_type": "display_data"
    },
    {
     "name": "stdout",
     "output_type": "stream",
     "text": [
      "\n",
      "Graph 1 Information:\n",
      "Nodes:\n",
      "Node 0: {'id': '0', 'name': 'Hillary Clinton', 'description': 'Hillary Diane Rodham Clinton is an American politician', 'age': 70, 'birth': 'US', 'is_friend_of_refs': ['1', '10002'], 'is_of_refs': ['1', '10002'], 'is_friend_of_ref': '10002'}\n",
      "Node 1: {'id': '1', 'name': 'Christopher G. Kollmann', 'description': 'Forensic investigator', 'age': 48, 'birth': 'US'}\n",
      "Node 10002: {'id': '10002', 'name': 'Frank xu', 'description': 'Professor at UB', 'age': 88, 'birth': 'China'}\n",
      "\n",
      "Edges:\n",
      "Edge 0 - 1: {}\n",
      "Edge 0 - 10002: {}\n",
      "\n",
      "Graph 2 Visualization:\n"
     ]
    },
    {
     "data": {
      "application/vnd.jupyter.widget-view+json": {
       "model_id": "0fc07803cb5b4aa5a11b440edf81de23",
       "version_major": 2,
       "version_minor": 0
      },
      "text/plain": [
       "GraphWidget(layout=Layout(height='500px', width='100%'))"
      ]
     },
     "metadata": {},
     "output_type": "display_data"
    },
    {
     "name": "stdout",
     "output_type": "stream",
     "text": [
      "\n",
      "Graph 2 Information:\n",
      "Nodes:\n",
      "Node 0: {'id': '0', 'name': 'Hillary Clinton', 'description': 'Hillary Diane Rodham Clinton is an American politician', 'age': 70, 'birth': 'US', 'is_friend_of_ref': '1', 'like_ref': '1'}\n",
      "Node 1: {'id': '1', 'name': 'Christopher G. Kollmann', 'description': 'Forensic investigator', 'age': '48'}\n",
      "\n",
      "Edges:\n",
      "Edge 0 - 1: {}\n"
     ]
    }
   ],
   "source": [
    "from hallucination_eval import HalluEvaluator\n",
    "import json\n",
    "from yfiles_jupyter_graphs import GraphWidget\n",
    "import networkx as nx\n",
    "\n",
    "# Create an instance of HalluEvaluator\n",
    "graph_path1 = r\"C:\\Users\\omar2\\OneDrive\\Desktop\\graphdistance-main\\graphdistance-main\\dspy_dfkg\\testcase\\node_distance\\08_a.json\"\n",
    "graph_path2 = r\"C:\\Users\\omar2\\OneDrive\\Desktop\\graphdistance-main\\graphdistance-main\\dspy_dfkg\\testcase\\node_distance\\08_b.json\"\n",
    "hallu_evaluator = HalluEvaluator(graph_pathA=graph_path1, graph_pathB=graph_path2)\n",
    "\n",
    "# Access graph1, graphx1, graph2, and graphx2 from the instance\n",
    "graph1 = hallu_evaluator.graph1\n",
    "graphx1 = hallu_evaluator.graphx1\n",
    "graph2 = hallu_evaluator.graph2\n",
    "graphx2 = hallu_evaluator.graphx2\n",
    "\n",
    "# Function to create combined graph\n",
    "def create_combined_graph(graph, graphx):\n",
    "    combined_graph = nx.Graph()\n",
    "    combined_graph.add_nodes_from(graphx.nodes())\n",
    "    combined_graph.add_edges_from(graphx.edges())\n",
    "    for item in graph:\n",
    "        if 'source_ref' in item:  # It's an edge\n",
    "            combined_graph.add_edge(item['source_ref'], item['target_ref'], **item)\n",
    "        else:  # It's a node\n",
    "            combined_graph.nodes[item['id']].update(item)\n",
    "    return combined_graph\n",
    "\n",
    "# Create combined graphs\n",
    "combined_graph1 = create_combined_graph(graph1, graphx1)\n",
    "combined_graph2 = create_combined_graph(graph2, graphx2)\n",
    "\n",
    "# Function to flatten attributes into a string\n",
    "def flatten_attributes(data):\n",
    "    data_copy = data.copy()\n",
    "    data_copy.pop('id', None)\n",
    "    return '\\n'.join(f\"{k}: {v}\" for k, v in data_copy.items())\n",
    "\n",
    "# Function to create and configure a GraphWidget\n",
    "def create_graph_widget(combined_graph):\n",
    "    widget = GraphWidget()\n",
    "    widget.set_nodes([\n",
    "        {\n",
    "            'id': node,\n",
    "            'label': flatten_attributes(data),\n",
    "            'properties': {\n",
    "                'width': 300, \n",
    "                'height': 200,\n",
    "                'label_visible': True,\n",
    "                'label_text_size': 12\n",
    "            }\n",
    "        }\n",
    "        for node, data in combined_graph.nodes(data=True)\n",
    "    ])\n",
    "    widget.set_edges([\n",
    "        {\n",
    "            'id': i, \n",
    "            'start': u, \n",
    "            'end': v, \n",
    "            'label': f\"Edge {u}-{v}\",\n",
    "            'properties': {\n",
    "                'label_visible': True,\n",
    "                'label_text_size': 10\n",
    "            }\n",
    "        }\n",
    "        for i, (u, v, data) in enumerate(combined_graph.edges(data=True))\n",
    "    ])\n",
    "    widget.set_node_color_mapping(lambda node: '#15afac')\n",
    "    widget.set_node_label_mapping(lambda node: node['label'])\n",
    "    widget.organic_layout()\n",
    "    return widget\n",
    "\n",
    "# Create and show widget for graph1\n",
    "widget1 = create_graph_widget(combined_graph1)\n",
    "print(\"Graph 1 Visualization:\")\n",
    "widget1.show()\n",
    "\n",
    "# Print information for graph1\n",
    "print(\"\\nGraph 1 Information:\")\n",
    "print(\"Nodes:\")\n",
    "for node, data in combined_graph1.nodes(data=True):\n",
    "    print(f\"Node {node}: {data}\")\n",
    "print(\"\\nEdges:\")\n",
    "for u, v, data in combined_graph1.edges(data=True):\n",
    "    print(f\"Edge {u} - {v}: {data}\")\n",
    "\n",
    "# Create and show widget for graph2\n",
    "widget2 = create_graph_widget(combined_graph2)\n",
    "print(\"\\nGraph 2 Visualization:\")\n",
    "widget2.show()\n",
    "\n",
    "# Print information for graph2\n",
    "print(\"\\nGraph 2 Information:\")\n",
    "print(\"Nodes:\")\n",
    "for node, data in combined_graph2.nodes(data=True):\n",
    "    print(f\"Node {node}: {data}\")\n",
    "print(\"\\nEdges:\")\n",
    "for u, v, data in combined_graph2.edges(data=True):\n",
    "    print(f\"Edge {u} - {v}: {data}\")"
   ]
  }
 ],
 "metadata": {
  "kernelspec": {
   "display_name": "base",
   "language": "python",
   "name": "python3"
  },
  "language_info": {
   "codemirror_mode": {
    "name": "ipython",
    "version": 3
   },
   "file_extension": ".py",
   "mimetype": "text/x-python",
   "name": "python",
   "nbconvert_exporter": "python",
   "pygments_lexer": "ipython3",
   "version": "3.11.7"
  }
 },
 "nbformat": 4,
 "nbformat_minor": 2
}
